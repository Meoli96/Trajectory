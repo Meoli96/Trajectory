{
 "cells": [
  {
   "cell_type": "code",
   "execution_count": null,
   "metadata": {},
   "outputs": [],
   "source": [
    "import numpy as np\n",
    "import matplotlib.pyplot as plt\n",
    "\n"
   ]
  },
  {
   "cell_type": "code",
   "execution_count": null,
   "metadata": {},
   "outputs": [],
   "source": [
    "# Consts\n",
    "# Solar energy flux at Earth\n",
    "We = 1361 # W/m^2\n",
    "\n",
    "# Normalization parameters \n",
    "# mu_s = 1, D = 1 AU, T such that \n",
    "\n",
    "# 2D (r, theta) problem, so 4D state vector and 4D costate"
   ]
  },
  {
   "cell_type": "code",
   "execution_count": null,
   "metadata": {},
   "outputs": [],
   "source": [
    "def f_dyn(t, X):\n",
    "\n",
    "\n",
    "    # Split into state and costate\n",
    "    S, L = X[:4], X[4:]\n",
    "\n",
    "    # Unpack state\n",
    "    r, theta, vr, vtheta = S\n",
    "    # Unpack costate\n",
    "    p_r, p_theta, p_vr, p_vtheta = L\n",
    "\n",
    "    # Compute optimal control (thrust angle)\n",
    "    # u = alpha = atan(-3*p_vr + sqrt(9*p_vr**2 + 8*p_vtheta**2)/(4*p_vtheta)\n",
    "    # T = 2*We/(c*sigma)(Rf^2/r^2)*cos(alpha)\n",
    "    # beta = 2*We/c*sigma*(Re^2)  ---> T_om = beta/r^2 * cos^2(alpha)\n",
    "    beta = 2*We/c*sigma*(Re**2)\n",
    "    alpha = atan(-3*p_vr + np.sqrt(9*p_vr**2 + 8*p_vtheta**2)/(4*p_vtheta))\n",
    "    # Dynamics\n",
    "    dS = np.zeros(4)\n",
    "    dL = np.zeros(4)\n",
    "\n",
    "    dS[0] = vr\n",
    "    dS[1] = vtheta/r\n",
    "    dS[2] = vtheta**2/r - 1/r**2 + beta/r**2 * np.cos(alpha)**3\n",
    "    dS[3] = -vr*vtheta/r + beta/r**2 * np.cos(alpha)**2 * np.sin(alpha)\n",
    "\n",
    "    dL[0] = p_theta*vtheta/r**2 + p_vr*(vtheta**2/r**2 - 2/r**3 + 2*beta/r**3*np.cos(alpha)**3) - p_vtheta*(vr*vtheta/r**2 - 2*beta/r**3*np.cos(alpha)**2*np.sin(alpha))\n",
    "    dL[1] = 0\n",
    "    dL[2] = -p_r - p_vtheta*vtheta/r\n",
    "    dL[3] = -p_theta/r - 2*p_vr*vtheta/r + p_vtheta*vr/r\n",
    "    dL[4] = 0\n",
    "\n",
    "    return np.concatenate((dS, dL))\n"
   ]
  }
 ],
 "metadata": {
  "language_info": {
   "name": "python"
  }
 },
 "nbformat": 4,
 "nbformat_minor": 2
}
