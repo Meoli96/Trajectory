{
 "cells": [
  {
   "cell_type": "code",
   "execution_count": 53,
   "metadata": {},
   "outputs": [],
   "source": [
    "import numpy as np\n",
    "import matplotlib.pyplot as plt\n",
    "\n"
   ]
  },
  {
   "cell_type": "code",
   "execution_count": 54,
   "metadata": {},
   "outputs": [],
   "source": [
    "# Consts\n",
    "# Solar energy flux at Earth\n",
    "We = 1361 # W/m^2\n",
    "c = 3e8 # m/s\n",
    "sigma = 20 # kg/m^2 \n",
    "Re = 6.371e3 # km\n",
    "mu_s = 1.327e11 # km^3/s^2\n",
    "\n",
    "D = 1.496e8 # km 1 AU\n",
    "# T such that mu_s = D^3/T^2\n",
    "T = np.sqrt(D**3/mu_s)\n",
    "\n",
    "\n",
    "# Uknwowns are [l_r, l_vr, l_vtheta]"
   ]
  },
  {
   "cell_type": "code",
   "execution_count": 55,
   "metadata": {},
   "outputs": [
    {
     "name": "stdout",
     "output_type": "stream",
     "text": [
      "beta = 7.651192604873147e-05\n"
     ]
    }
   ],
   "source": [
    "beta = 2*We/ (c * sigma) #[m/s^2]\n",
    "beta = beta*1e-3*D**2 # [km^3/s^2]\n",
    "# Adimensionalize beta\n",
    "beta_adim = beta*T**2/D**3\n",
    "\n",
    "print(f\"beta = {beta_adim}\")"
   ]
  },
  {
   "cell_type": "code",
   "execution_count": 45,
   "metadata": {},
   "outputs": [
    {
     "name": "stdout",
     "output_type": "stream",
     "text": [
      "mu_s = 1.0, D = 149600000.0, T = 5022985.550771121\n"
     ]
    }
   ],
   "source": [
    "\n",
    "# Adimensionalization parameters \n",
    "# mu_s = 1, D = 1 AU, T such that \n",
    "\n",
    "\n",
    "\n",
    "mu_s_adim = mu_s * T**2 / D**3\n",
    "\n",
    "\n",
    "print(f\"mu_s = {mu_s_adim}, D = {D}, T = {T}\")\n"
   ]
  },
  {
   "cell_type": "code",
   "execution_count": 46,
   "metadata": {},
   "outputs": [
    {
     "name": "stdout",
     "output_type": "stream",
     "text": [
      "v_earth =  29.783083882658914\n",
      "v_merc =  47.87559474837184\n"
     ]
    }
   ],
   "source": [
    "# Velocity of Earth\n",
    "v_earth = np.sqrt(mu_s/D)\n",
    "v_merc = np.sqrt(mu_s/(0.387*D))\n",
    "print(\"v_earth = \", v_earth)\n",
    "print(\"v_merc = \", v_merc)"
   ]
  },
  {
   "cell_type": "code",
   "execution_count": 47,
   "metadata": {},
   "outputs": [],
   "source": [
    "### Adimensionalized initial and final conditions\n",
    "\n",
    "# Initial conditions (position and angular velocity)\n",
    "r0 = 1 # AU\n",
    "vr0 = 0 # radial velocity\n",
    "vt0 = 1 # angular velocity\n",
    "\n",
    "\n",
    "# Final conditions\n",
    "rf = 0.387 # AU\n",
    "vrf = 0\n",
    "vtf = v_merc*T/D \n",
    "\n",
    "# Adimensionalize beta\n",
    "beta_adim = beta*T**2/D**3"
   ]
  },
  {
   "cell_type": "code",
   "execution_count": 48,
   "metadata": {},
   "outputs": [],
   "source": [
    "X0_adim = np.array([r0, 0, vr0, vt0])\n",
    "Xf_adim = np.array([rf, 0, vrf, vtf])"
   ]
  },
  {
   "cell_type": "code",
   "execution_count": 49,
   "metadata": {},
   "outputs": [
    {
     "name": "stdout",
     "output_type": "stream",
     "text": [
      "r0 = 1, vr0 = 0, vt0 = 1\n",
      "rf = 0.387, vrf = 0, vtf = 1.6074760739013738\n",
      "beta = 7.651192604873147e-05\n"
     ]
    }
   ],
   "source": [
    "# Print adimensionalized parameters\n",
    "print(f\"r0 = {r0}, vr0 = {vr0}, vt0 = {vt0}\")\n",
    "print(f\"rf = {rf}, vrf = {vrf}, vtf = {vtf}\")\n",
    "print(f\"beta = {beta_adim}\")"
   ]
  },
  {
   "cell_type": "code",
   "execution_count": null,
   "metadata": {},
   "outputs": [],
   "source": [
    "def f_dyn(t, X):\n",
    "\n",
    "\n",
    "    # Split into state and costate\n",
    "    S, L = X[:4], X[4:]\n",
    "\n",
    "    # Unpack state\n",
    "    r, theta, vr, vtheta = S\n",
    "    # Unpack costate\n",
    "    p_r, p_theta, p_vr, p_vtheta = L\n",
    "\n",
    "    # Compute optimal control (thrust angle)\n",
    "    # u = alpha = atan(-3*p_vr + sqrt(9*p_vr**2 + 8*p_vtheta**2)/(4*p_vtheta)\n",
    "    # T = 2*We/(c*sigma)(Rf^2/r^2)*cos(alpha)\n",
    "    # beta = 2*We/c*sigma*(Re^2)  ---> T_om = beta/r^2 * cos^2(alpha)\n",
    "    alpha = np.atan(-3*p_vr + np.sqrt(9*p_vr**2 + 8*p_vtheta**2)/(4*p_vtheta))\n",
    "    # Dynamics\n",
    "    dS = np.zeros(4)\n",
    "    dL = np.zeros(4)\n",
    "\n",
    "    dS[0] = vr\n",
    "    dS[1] = vtheta/r\n",
    "    dS[2] = vtheta**2/r - 1/r**2 + beta/r**2 * np.cos(alpha)**3\n",
    "    dS[3] = -vr*vtheta/r + beta/r**2 * np.cos(alpha)**2 * np.sin(alpha)\n",
    "\n",
    "    dL[0] = p_theta*vtheta/r**2 + p_vr*(vtheta**2/r**2 - 2/r**3 + 2*beta/r**3*np.cos(alpha)**3) - p_vtheta*(vr*vtheta/r**2 - 2*beta/r**3*np.cos(alpha)**2*np.sin(alpha))\n",
    "    dL[1] = 0\n",
    "    dL[2] = -p_r - p_vtheta*vtheta/r\n",
    "    dL[3] = -p_theta/r - 2*p_vr*vtheta/r + p_vtheta*vr/r\n",
    "    dL[4] = 0\n",
    "\n",
    "    return np.concatenate((dS, dL))\n"
   ]
  }
 ],
 "metadata": {
  "kernelspec": {
   "display_name": ".venv",
   "language": "python",
   "name": "python3"
  },
  "language_info": {
   "codemirror_mode": {
    "name": "ipython",
    "version": 3
   },
   "file_extension": ".py",
   "mimetype": "text/x-python",
   "name": "python",
   "nbconvert_exporter": "python",
   "pygments_lexer": "ipython3",
   "version": "3.11.9"
  }
 },
 "nbformat": 4,
 "nbformat_minor": 2
}
