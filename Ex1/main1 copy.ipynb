{
 "cells": [
  {
   "cell_type": "code",
   "execution_count": 2,
   "metadata": {
    "notebookRunGroups": {
     "groupValue": "1"
    }
   },
   "outputs": [],
   "source": [
    "import numpy as np\n",
    "import scipy.linalg as splin\n",
    "from scipy.integrate import LSODA, solve_ivp\n",
    "import matplotlib.pyplot as plt\n",
    "\n",
    "from consts import *\n",
    "from lyapunov import *\n",
    "from pac import *\n",
    "from potential import *\n",
    "from lyap_obj import *"
   ]
  },
  {
   "cell_type": "code",
   "execution_count": 3,
   "metadata": {
    "notebookRunGroups": {
     "groupValue": "2"
    }
   },
   "outputs": [],
   "source": [
    "# Initial conditions (alpha0) and Jacobi interval\n",
    "alpha0 = 50/384400 # initial guess for alpha\n",
    "\n",
    "# C = 2U(r) - (vx^2 + vy^2)\n",
    "C_range = [3.1370, 3.1493]"
   ]
  },
  {
   "cell_type": "code",
   "execution_count": 3,
   "metadata": {},
   "outputs": [],
   "source": [
    "fL1 = Family(XL1, mu)\n",
    "fL1.find_family(alpha0, 40)"
   ]
  },
  {
   "cell_type": "code",
   "execution_count": 4,
   "metadata": {},
   "outputs": [],
   "source": [
    "fL2 = Family(XL2, mu)\n",
    "fL2.find_family(alpha0, 40)"
   ]
  },
  {
   "cell_type": "code",
   "execution_count": 6,
   "metadata": {},
   "outputs": [
    {
     "ename": "AttributeError",
     "evalue": "'LyapOrbit' object has no attribute 'compute_orbit'",
     "output_type": "error",
     "traceback": [
      "\u001b[1;31m---------------------------------------------------------------------------\u001b[0m",
      "\u001b[1;31mAttributeError\u001b[0m                            Traceback (most recent call last)",
      "Cell \u001b[1;32mIn[6], line 1\u001b[0m\n\u001b[1;32m----> 1\u001b[0m \u001b[43mfL1\u001b[49m\u001b[38;5;241;43m.\u001b[39;49m\u001b[43mplot_family\u001b[49m\u001b[43m(\u001b[49m\u001b[43m)\u001b[49m\n\u001b[0;32m      2\u001b[0m fL2\u001b[38;5;241m.\u001b[39mplot_family()\n",
      "File \u001b[1;32mc:\\Users\\rafe9\\Coding\\Trajectory\\Ex1\\lyap_obj.py:199\u001b[0m, in \u001b[0;36mFamily.plot_family\u001b[1;34m(self)\u001b[0m\n\u001b[0;32m    196\u001b[0m cmap \u001b[38;5;241m=\u001b[39m plt\u001b[38;5;241m.\u001b[39mget_cmap(\u001b[38;5;124m'\u001b[39m\u001b[38;5;124mjet\u001b[39m\u001b[38;5;124m'\u001b[39m)\n\u001b[0;32m    198\u001b[0m \u001b[38;5;28;01mfor\u001b[39;00m orbit \u001b[38;5;129;01min\u001b[39;00m \u001b[38;5;28mself\u001b[39m\u001b[38;5;241m.\u001b[39mfamily:\n\u001b[1;32m--> 199\u001b[0m     X, PHI \u001b[38;5;241m=\u001b[39m \u001b[43morbit\u001b[49m\u001b[38;5;241;43m.\u001b[39;49m\u001b[43mcompute_orbit\u001b[49m()\n\u001b[0;32m    200\u001b[0m     C \u001b[38;5;241m=\u001b[39m orbit\u001b[38;5;241m.\u001b[39mC\n\u001b[0;32m    201\u001b[0m     color \u001b[38;5;241m=\u001b[39m cmap(norm(C))\n",
      "\u001b[1;31mAttributeError\u001b[0m: 'LyapOrbit' object has no attribute 'compute_orbit'"
     ]
    }
   ],
   "source": [
    "fL1.plot_family()\n",
    "fL2.plot_family()"
   ]
  },
  {
   "cell_type": "code",
   "execution_count": null,
   "metadata": {},
   "outputs": [
    {
     "name": "stdout",
     "output_type": "stream",
     "text": [
      "Found 1 orbits in the range, PACing to find more\n",
      "Found orbit 1\n",
      "ds: 0.01, C_guess: 3.1422696744783893, G_guess: 5.476330919737421e-13\n"
     ]
    }
   ],
   "source": [
    "# Obtain two orbits in [C_range[0]  C_range[1]] in L1\n",
    "orbsL1 = find_Crange(fL1, 2, C_range, verbose=True)"
   ]
  },
  {
   "cell_type": "code",
   "execution_count": null,
   "metadata": {},
   "outputs": [
    {
     "data": {
      "image/png": "[encoded data removed]",
      "text/plain": [
       "<Figure size 640x480 with 1 Axes>"
      ]
     },
     "metadata": {},
     "output_type": "display_data"
    }
   ],
   "source": [
    "for orbit in orbsL1:\n",
    "    orbit.plot()\n",
    "plt.axis('equal')\n",
    "plt.show()"
   ]
  },
  {
   "cell_type": "code",
   "execution_count": null,
   "metadata": {
    "notebookRunGroups": {
     "groupValue": "1"
    }
   },
   "outputs": [
    {
     "name": "stdout",
     "output_type": "stream",
     "text": [
      "Finding orbits with C = 3.1443992162204353\n",
      "Orbit not in the C tolerance. C = 3.1433196599646114, err = 0.0010795562558238991, ds = -0.02904363630642024, G = 8.331699617969406e-13\n",
      "Orbit not in the C tolerance. C = 3.1493193248151883, err = 0.004920108594753003, ds = 0.026403305733109308, G = 7.875477799008922e-13\n",
      "Orbit not in the C tolerance. C = 3.143834479639619, err = 0.0005647365808161275, ds = -0.02400300521191755, G = 9.328671161431607e-13\n",
      "Orbit not in the C tolerance. C = 3.1487985219467762, err = 0.004399305726340952, ds = 0.021820913829015954, G = 9.897267102174298e-13\n",
      "Orbit not in the C tolerance. C = 3.1442650029547394, err = 0.00013421326569584835, ds = -0.019837194390014502, G = 7.902185644224434e-13\n",
      "Orbit not in the C tolerance. C = 3.1483709929316586, err = 0.003971776711223285, ds = 0.018033813081831364, G = 8.209064130835645e-13\n",
      "Orbit not in the C tolerance. C = 3.144624193000467, err = 0.00022497678003174926, ds = 0.0163943755289376, G = 8.91800706304798e-13\n",
      "Orbit not in the C tolerance. C = 3.1411031657494886, err = 0.003296050470946721, ds = -0.014903977753579637, G = 7.791837793507153e-13\n",
      "Orbit not in the C tolerance. C = 3.1442924685834766, err = 0.00010674763695872613, ds = -0.013549070685072396, G = 8.648964022541119e-13\n",
      "Orbit not in the C tolerance. C = 3.1471176184651375, err = 0.0027184022447022116, ds = 0.01231733698642945, G = 7.815875598839527e-13\n",
      "Orbit not in the C tolerance. C = 3.144542476332834, err = 0.00014326011239873537, ds = 0.011197579078572226, G = 8.61607408559956e-13\n",
      "Orbit not in the C tolerance. C = 3.1421484633238994, err = 0.002250752896535868, ds = -0.010179617344156568, G = 7.60333248501367e-13\n",
      "Found orbit with C = 3.1443992162204353, err = 7.967842656197988e-05\n",
      "Finding orbits with C = 3.1422696744783893\n",
      "Orbit not in the C tolerance. C = 3.1433196599646114, err = 0.0010499854862220381, ds = 0.02904363630642024, G = 8.331699617969406e-13\n",
      "Orbit not in the C tolerance. C = 3.136950131946888, err = 0.005319542531501131, ds = -0.026403305733109308, G = 9.44934608833761e-13\n",
      "Orbit not in the C tolerance. C = 3.142698522583286, err = 0.00042884810489685066, ds = 0.02400300521191755, G = 9.042162435915424e-13\n",
      "Orbit not in the C tolerance. C = 3.137435324873277, err = 0.004834349605112198, ds = -0.021820913829015954, G = 7.976384297413442e-13\n",
      "Found orbit with C = 3.1422696744783893, err = 7.866406539180915e-05\n"
     ]
    }
   ],
   "source": [
    "# Find isoenergetic L2 orbits\n",
    "isoC_L2 = []\n",
    "for oL1 in orbsL1:\n",
    "    isoC_L2.append(find_isoC(oL1, fL2, verbose=True)) "
   ]
  },
  {
   "cell_type": "code",
   "execution_count": null,
   "metadata": {},
   "outputs": [],
   "source": [
    "# Save the orbits to a file \n"
   ]
  },
  {
   "cell_type": "code",
   "execution_count": null,
   "metadata": {},
   "outputs": [],
   "source": [
    "# Orbits are contained in \n",
    "# orbsL1\n",
    "# isoC_L2\n",
    "# For good measure, set C of the orbits with a e-4 accuracy\n",
    "for i in range(len(orbsL1)):\n",
    "    # Truncate to 4 decimal places without rounding\n",
    "    C = np.round(orbsL1[i].C, 4)\n",
    "    orbsL1[i].C = C\n",
    "    isoC_L2[i].C = C\n",
    "    "
   ]
  },
  {
   "cell_type": "code",
   "execution_count": null,
   "metadata": {},
   "outputs": [
    {
     "name": "stdout",
     "output_type": "stream",
     "text": [
      "Orbit 1\n",
      "L1: 3.1444\n",
      "L2: 3.1444\n",
      "Orbit 2\n",
      "L1: 3.1423\n",
      "L2: 3.1423\n"
     ]
    }
   ],
   "source": [
    "for i in range(len(orbsL1)):\n",
    "    print(f\"Orbit {i+1}\")\n",
    "    print(f\"L1: {orbsL1[i].C}\")\n",
    "    print(f\"L2: {isoC_L2[i].C}\")"
   ]
  },
  {
   "cell_type": "code",
   "execution_count": null,
   "metadata": {},
   "outputs": [],
   "source": [
    "# Take a pair of isoenergetic orbits and propagate them for a period T.\n",
    "# Then, take a point in the interval and compute the eigenvectors and eigenvalues\n",
    "# of the STM on that point.\n",
    "\n",
    "# Once this is done, we have Es, Eu, Ec1, Ec2\n",
    "#### STABLE MANIFOLD\n",
    "# Inizialize an orbit in x = p + de*Es/|Es| and propagate backwards for a period T \n",
    "\n",
    "#### UNSTABLE MANIFOLD\n",
    "# Inizialize an orbit in x = p + de*Eu/|Eu| and propagate forward for a period\n",
    "\n",
    "# de = 40/384400\n",
    "de = 40/384400"
   ]
  },
  {
   "cell_type": "code",
   "execution_count": null,
   "metadata": {},
   "outputs": [],
   "source": [
    "def compute_manifold(orbit: LyapOrbit, n_curves = 10):\n",
    "\n",
    "    # Computes the stable and unstable manifolds of a given orbit\n",
    "    \n",
    "    # Perturbation parameter\n",
    "    de = 40/384400\n",
    "\n",
    "    # Compute the periodic orbit\n",
    "    X, PHI = orbit.propagate()\n",
    "    PHI = PHI.reshape(4,4)\n",
    "    # Compute the length of the orbit\n",
    "    length = len(X[0,:])\n",
    "    \n",
    "    T = orbit.T\n",
    "    mu = orbit.mu\n",
    "    sol_s = []\n",
    "    sol_u = []\n",
    "\n",
    "    for i in range(n_curves):\n",
    "        p = X[:,i*length//n_curves]\n",
    "        PHI_p = PHI[:,:,i*length//n_curves]\n",
    "\n",
    "        assert spli.det(PHI_p) < 1e-10\n",
    "\n",
    "         # Compute the eigenvectors and eigenvalues of the STM\n",
    "        eigvals, eigvecs = splin.eig(PHI_p)\n",
    "\n",
    "        # Compute the stable and unstable eigenvectors\n",
    "        # E is stable if Re(eigval) < 1 and unstable if Re(eigval) > 1\n",
    "        Es_idx = [i for i in range(len(eigvals)) if np.abs(eigvals[i]) < 1 and eigvals[i].imag == 0]\n",
    "        Eu_idx = [i for i in range(len(eigvals)) if np.abs(eigvals[i]) > 1 and eigvals[i].imag == 0]\n",
    "\n",
    "        # Take eigenvalues and eigenvectors\n",
    "        Es, EVs = eigvals[Es_idx], eigvecs[:, Es_idx]\n",
    "        Eu, EVu = eigvals[Eu_idx], eigvecs[:, Eu_idx]\n",
    "\n",
    "        ### Compute deviation vectors\n",
    "        # Stable\n",
    "        X_s = p + de*EVs[:,0]/np.linalg.norm(EVs[:2,0])\n",
    "        # Unstable\n",
    "        X_u = p = de*EVu[:,0]/np.linalg.norm(EVu[:2,0])\n",
    "\n",
    "\n",
    "        \n",
    "\n",
    "        ### Propagate the deviation vectors\n",
    "        # Build the initial conditions\n",
    "        PHI0 = np.zeros((4,4))\n",
    "        X0s = np.concatenate((X_s, PHI0.flatten()))\n",
    "        X0u = np.concatenate((X_u, PHI0.flatten()))\n",
    "        \n",
    "        \n",
    "        \n",
    "        # Stable (backwards)\n",
    "        sol_s = solve_ivp(fdyn, [0, -T], X0s,t_eval= np.linspace(0, -T, 1000),\n",
    "                           method='LSODA', args=(T, mu), rtol=1e-12, atol=3e-12)\n",
    "        # Unstable (forward)\n",
    "        sol_u = solve_ivp(fdyn, [0, T],X0u, t_eval= np.linspace(0,T, 1000),\n",
    "                          method='LSODA', args=(T, mu), rtol=3e-12, atol=1e-12)\n",
    "\n",
    "        # Extract the solution\n",
    "        Xs = sol_s.y[:4,:]\n",
    "        Xu = sol_u.y[:4,:]\n",
    "\n",
    "        sol_s.append(Xs)\n",
    "        sol_u.append(Xu)\n",
    "    # End of loop\n",
    "\n",
    "    return sol_s, sol_u\n",
    "\n",
    "\n",
    "\n",
    "\n",
    "\n",
    "\n",
    "\n"
   ]
  },
  {
   "cell_type": "code",
   "execution_count": null,
   "metadata": {},
   "outputs": [],
   "source": [
    "sol_s, sol_u = compute_manifold(orbsL1[0], 10)"
   ]
  },
  {
   "cell_type": "code",
   "execution_count": null,
   "metadata": {},
   "outputs": [],
   "source": [
    "# Plot the manifolds\n",
    "fig, ax = plt.subplots()\n",
    "for i in range(10):\n",
    "    ax.plot(sol_s[i][0,:], sol_s[i][1,:], 'b')\n",
    "    ax.plot(sol_u[i][0,:], sol_u[i][1,:], 'r')\n"
   ]
  }
 ],
 "metadata": {
  "kernelspec": {
   "display_name": ".venv",
   "language": "python",
   "name": "python3"
  },
  "language_info": {
   "codemirror_mode": {
    "name": "ipython",
    "version": 3
   },
   "file_extension": ".py",
   "mimetype": "text/x-python",
   "name": "python",
   "nbconvert_exporter": "python",
   "pygments_lexer": "ipython3",
   "version": "3.11.9"
  }
 },
 "nbformat": 4,
 "nbformat_minor": 2
}
