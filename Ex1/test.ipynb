{
 "cells": [
  {
   "cell_type": "code",
   "execution_count": 1,
   "metadata": {},
   "outputs": [],
   "source": [
    "# Import all sort of things\n",
    "import numpy as np\n",
    "import scipy.linalg as splin\n",
    "from scipy.integrate import LSODA, solve_ivp\n",
    "from consts import *\n",
    "from formulae import *\n",
    "from potential import *\n"
   ]
  },
  {
   "cell_type": "code",
   "execution_count": 4,
   "metadata": {},
   "outputs": [],
   "source": [
    "# Initial conditions (alpha0) and Jacobi interval\n",
    "alpha0 = 50/384400 # initial guess for alpha\n",
    "\n",
    "# C = 2U(r) - (vx^2 + vy^2)\n",
    "C_range = [3.1370, 3.1493]"
   ]
  },
  {
   "cell_type": "code",
   "execution_count": 5,
   "metadata": {},
   "outputs": [],
   "source": [
    "#def mainFun(XL: np.ndarray, mu: float, C_range, IG):\n",
    "    # XL is the lagrangian point position vector\n",
    "    # mu is the relative gravitational parameter\n",
    "    # C_range is the range of Jacobi constants to search for\n",
    "    # IG is the initial guess for alpha (for Lyapunov orbit)\n",
    "    \n",
    "\n",
    "\n",
    "# Compute A at XL\n",
    "A_xl = A(XL1[:2], mu)\n",
    "# Diagonalize it\n",
    "L, V = splin.eig(A_xl)\n",
    "\n",
    "# Filter small values - eps = 1e-14\n",
    "# V.real[np.abs(V.real) <= eps] = 0\n",
    "# V.imag[np.abs(V.imag) <= eps] = 0\n",
    "\n",
    "# Filter complex numbers with positive imaginary part\n",
    "Sel =  [(i, x) for i, x in enumerate(L) if isinstance(x, complex) and x.imag > 0]\n",
    "i_sel = Sel[0][0]\n",
    "L_sel = Sel[0][1]\n",
    "\n",
    "# Now take the eigenvector corresponding to that eigenvalue\n",
    "\n",
    "V_sel = V[:, i_sel]\n",
    "# Angular velocity and period\n",
    "om_ly = L_sel.imag\n",
    "T_ly = 2*np.pi/om_ly\n",
    "# Lyapunov linearized state \n",
    "# x(t) = XL + alpha0(cos(om_ly*t)*Re(V_sel) + sin(om_ly*t)*Im(V_sel))\n",
    "# But we are interested in t = 0 then x(0) = XL + alpha0*Re(V_sel)\n",
    "\n",
    "# Initial state\n",
    "x0_ly = XL1 + alpha0*(V_sel.real)\n",
    "PHI0 = np.eye(4, 4)\n",
    "\n",
    "X0 = np.concatenate((x0_ly, PHI0.flatten()))\n",
    "\n",
    "\n",
    "def f_lyp (t_span: np.ndarray, om_ly, alpha0, V):\n",
    "    # t_span is the time span [0, T]\n",
    "    # om_ly come\n",
    "    # alpha0 is the initial guess for alpha\n",
    "    # V is the eigenvector corresponding to the eigenvalue with positive imaginary part\n",
    "\n",
    "    X = np.zeros((4, len(t_span)))  \n",
    "    for i, t in enumerate(t_span):\n",
    "        X[:, i] = XL1 + alpha0*(np.cos(om_ly*t)*V.real - np.sin(om_ly*t)*V.imag)\n",
    "    return X\n",
    "\n",
    "\n",
    "t_span = np.linspace(0, 2*np.pi/om_ly, 1000)\n",
    "X_lyap = f_lyp(t_span, om_ly, alpha0, V_sel)\n",
    "\n",
    "    "
   ]
  },
  {
   "cell_type": "code",
   "execution_count": 7,
   "metadata": {},
   "outputs": [
    {
     "name": "stdout",
     "output_type": "stream",
     "text": [
      "[[0. 0. 0. ... 0. 0. 0.]\n",
      " [0. 0. 0. ... 0. 0. 0.]\n",
      " [0. 0. 0. ... 0. 0. 0.]\n",
      " [0. 0. 0. ... 0. 0. 0.]]\n"
     ]
    }
   ],
   "source": [
    "X_liap_test = lin_lyapunov_orbit(XL1, om_ly, alpha0,V_sel, 1000)\n",
    "\n",
    "print(X_lyap-X_liap_test)"
   ]
  },
  {
   "cell_type": "code",
   "execution_count": 8,
   "metadata": {},
   "outputs": [
    {
     "name": "stdout",
     "output_type": "stream",
     "text": [
      "[ 8.36913763e-01  2.06128976e-22 -1.40337326e-20 -1.15163873e-04]\n",
      "[ 8.36886237e-01 -1.55184919e-07 -1.01005392e-07  1.15163304e-04]\n"
     ]
    },
    {
     "data": {
      "image/png": "[encoded data removed]",
      "text/plain": [
       "<Figure size 640x480 with 1 Axes>"
      ]
     },
     "metadata": {},
     "output_type": "display_data"
    }
   ],
   "source": [
    "# Plotting cell\n",
    "import matplotlib.pyplot as plt\n",
    "\n",
    "\n",
    "# Plot the Lagrange point\n",
    "plt.plot(XL1[0], XL1[1], 'ro', label='L1')\n",
    "\n",
    "# Set the aspect ratio to be equal\n",
    "plt.axis('equal')\n",
    "\n",
    "\n",
    "\n",
    "# # Plot linear lyapunov orbit\n",
    "plt.plot(X_liap_test[0, :], X_liap_test[1, :],'b', label='Linear Lyapunov orbit')\n",
    "\n",
    "# From X_lyap take the solution that crosses the x-axis\n",
    "i_cross = [i for i in range(len(t_span)-1) if X_lyap[1, i] * X_lyap[1,i+1] < 0]\n",
    "\n",
    "# Plot the crossing point\n",
    "plt.plot(X_lyap[0,i_cross], X_lyap[1,i_cross], 'ro', label='Crossing point')\n",
    "print(X_lyap[:, i_cross[0]])\n",
    "print(X_lyap[:, i_cross[1]])\n",
    "\n",
    "#Plot initial position\n",
    "plt.plot( X_lyap[0,0], X_lyap[1,0], 'g.', label='Initial position')\n",
    "plt.grid()\n",
    "\n",
    "\n",
    "plt.legend()\n",
    "plt.show()\n",
    "\n",
    "\n"
   ]
  },
  {
   "cell_type": "code",
   "execution_count": null,
   "metadata": {},
   "outputs": [],
   "source": [
    "# Take one of the crossing points \n",
    "X0 = X_lyap[:, i_cross[0]]\n",
    "for i in range(4):\n",
    "    if abs(X0[i]) < eps:\n",
    "        X0[i] = 0\n",
    "# Concat the STM\n",
    "PHI0 = np.eye(4, 4)\n",
    "Y0 = np.concatenate((X0, PHI0.flatten()))\n",
    "# Lets integrate the equations of motion\n",
    "tau_span = np.linspace(0, 1/2, 100)\n",
    "\n",
    "sol = solve_ivp(f, [0, 1/2], Y0, args = (T_ly, mu), t_eval=tau_span, method='LSODA', rtol=3*eps, atol=eps)\n",
    "\n",
    "# Plot the solution\n",
    "plt.plot(sol.y[0, :], sol.y[1, :], 'b')\n",
    "plt.plot(XL1[0], XL1[1], 'ro')\n"
   ]
  },
  {
   "cell_type": "code",
   "execution_count": null,
   "metadata": {},
   "outputs": [],
   "source": [
    "# Build the initial guess for iteration\n",
    "Y_guess = [X0[0], X0[3], T_ly] \n",
    "Yt = [0,0]\n",
    "F_X = 1\n",
    "\n",
    "\n",
    "while np.linalg.norm(F_X) > 1e-12:\n",
    "    # Shoot\n",
    "    DX, DF, F_X = shooting(Y_guess, Yt, mu)\n",
    "    # Update the guess\n",
    "    Y_guess = Y_guess + DX\n",
    "    \n",
    "\n",
    "# Now integrate the equations of motion\n",
    "Y0 = [Y_guess[0], 0, 0, Y_guess[1]]\n",
    "Y0 = np.concatenate((Y0, PHI0.flatten()))\n",
    "T = Y_guess[2]\n",
    "\n",
    "tau_span = np.linspace(0, 1, 1000)\n",
    "sol_nl = solve_ivp(f, [0, 1], Y0, args = (T, mu), t_eval=tau_span, method='LSODA', rtol=3*eps, atol=eps)\n",
    "\n",
    "# Plot the solution\n",
    "plt.plot(sol_nl.y[0, :], sol_nl.y[1, :], label='Nonlinear orbit')\n",
    "\n",
    "plt.plot(XL1[0], XL1[1], 'ro', label='L1')\n",
    "# Dont stretch the plot\n",
    "plt.axis('equal')\n",
    "plt.legend()\n",
    "plt.show()\n",
    "\n",
    "# Compute the C value of the orbit\n",
    "C_nl = Jacobi(Y0[0:2], Y0[2:4], mu)\n",
    "print(C_nl)\n"
   ]
  }
 ],
 "metadata": {
  "kernelspec": {
   "display_name": ".venv",
   "language": "python",
   "name": "python3"
  },
  "language_info": {
   "codemirror_mode": {
    "name": "ipython",
    "version": 3
   },
   "file_extension": ".py",
   "mimetype": "text/x-python",
   "name": "python",
   "nbconvert_exporter": "python",
   "pygments_lexer": "ipython3",
   "version": "3.11.9"
  }
 },
 "nbformat": 4,
 "nbformat_minor": 2
}
