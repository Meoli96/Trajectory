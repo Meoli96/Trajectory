{
 "cells": [
  {
   "cell_type": "code",
   "execution_count": 2,
   "metadata": {},
   "outputs": [],
   "source": [
    "# Import all sort of things\n",
    "import numpy as np\n",
    "import scipy.linalg as splin\n",
    "from scipy.integrate import LSODA, solve_ivp\n",
    "from consts import *\n",
    "from formulae import *\n",
    "from potential import *\n"
   ]
  },
  {
   "cell_type": "code",
   "execution_count": 3,
   "metadata": {
    "notebookRunGroups": {
     "groupValue": "2"
    }
   },
   "outputs": [],
   "source": [
    "mE = 5.972e24\n",
    "mM = 7.342e22\n",
    "dEM = 384400\n",
    "mu = mM/(mE+mM)\n",
    "eps = 1e-14\n"
   ]
  },
  {
   "cell_type": "code",
   "execution_count": 4,
   "metadata": {},
   "outputs": [],
   "source": [
    "# L1\n",
    "xL1 = 0.8369\n",
    "yL1 = 0 \n",
    "XL1 = [xL1, yL1]"
   ]
  },
  {
   "cell_type": "code",
   "execution_count": 5,
   "metadata": {},
   "outputs": [],
   "source": [
    "alpha0 = 50/384400 # initial guess for alpha"
   ]
  },
  {
   "cell_type": "code",
   "execution_count": 6,
   "metadata": {},
   "outputs": [],
   "source": [
    "# Compute A at XL\n",
    "A_xl = A(XL1[:2], mu)"
   ]
  },
  {
   "cell_type": "code",
   "execution_count": 7,
   "metadata": {},
   "outputs": [
    {
     "name": "stdout",
     "output_type": "stream",
     "text": [
      "[[ 2.93321242e-01+0.00000000e+00j  2.93321242e-01+0.00000000e+00j\n",
      "   1.05809301e-01-1.58426437e-17j  1.05809301e-01+1.58426437e-17j]\n",
      " [-1.35014101e-01+0.00000000e+00j  1.35014101e-01+0.00000000e+00j\n",
      "   1.58471957e-18+3.79384181e-01j  1.58471957e-18-3.79384181e-01j]\n",
      " [ 8.59728492e-01+0.00000000e+00j -8.59728492e-01+0.00000000e+00j\n",
      "  -1.07891337e-16+2.46930232e-01j -1.07891337e-16-2.46930232e-01j]\n",
      " [-3.95728140e-01+0.00000000e+00j -3.95728140e-01+0.00000000e+00j\n",
      "  -8.85379859e-01+0.00000000e+00j -8.85379859e-01-0.00000000e+00j]]\n"
     ]
    }
   ],
   "source": [
    "L, V = splin.eig(A_xl)\n",
    "\n",
    "print(V)"
   ]
  },
  {
   "cell_type": "code",
   "execution_count": null,
   "metadata": {},
   "outputs": [],
   "source": []
  },
  {
   "cell_type": "code",
   "execution_count": 9,
   "metadata": {},
   "outputs": [],
   "source": [
    "\n",
    "\n",
    "def f_lyp (t_span: np.ndarray, om_ly, alpha0, V):\n",
    "    # t_span is the time span [0, T]\n",
    "    # om_ly is the angular velocity\n",
    "    # alpha0 is the initial guess for alpha\n",
    "    # V is the eigenvector corresponding to the eigenvalue with positive imaginary part\n",
    "    V_real = V.real\n",
    "    V_imag = V.imag\n",
    "    X = np.zeros((2, len(t_span)))  \n",
    "    for i, t in enumerate(t_span):\n",
    "        X[:, i] = XL1 + alpha0*(V_real*np.cos(om_ly*t) - V_imag*np.sin(om_ly*t))\n",
    "    return X\n",
    "\n",
    "\n",
    "\n"
   ]
  },
  {
   "cell_type": "code",
   "execution_count": 11,
   "metadata": {},
   "outputs": [
    {
     "name": "stdout",
     "output_type": "stream",
     "text": [
      "Eigenvalues at L1:  [ 2.9310134+0.j         -2.9310134+0.j          0.       +2.33372898j\n",
      "  0.       -2.33372898j]\n",
      "Eigenvectors at L1: Before reformating\n",
      "[ 0.29332124+0.j -0.1350141 +0.j  0.85972849+0.j -0.39572814+0.j]\n",
      "[ 0.29332124+0.j  0.1350141 +0.j -0.85972849+0.j -0.39572814+0.j]\n",
      "[ 1.05809301e-01-1.58426437e-17j  1.58471957e-18+3.79384181e-01j\n",
      " -1.07891337e-16+2.46930232e-01j -8.85379859e-01+0.00000000e+00j]\n",
      "[ 1.05809301e-01+1.58426437e-17j  1.58471957e-18-3.79384181e-01j\n",
      " -1.07891337e-16-2.46930232e-01j -8.85379859e-01-0.00000000e+00j]\n",
      "Eigenvectors at L1: After reformating\n",
      "[ 0.29332124+0.j -0.1350141 +0.j  0.85972849+0.j -0.39572814+0.j]\n",
      "[ 0.29332124+0.j  0.1350141 +0.j -0.85972849+0.j -0.39572814+0.j]\n",
      "[ 0.1058093 +0.j          0.        +0.37938418j  0.        +0.24693023j\n",
      " -0.88537986+0.j        ]\n",
      "[ 0.1058093 +0.j          0.        -0.37938418j  0.        -0.24693023j\n",
      " -0.88537986+0.j        ]\n",
      "Complex eigenvectors at L1:  [(2, np.complex128(2.333728983254233j))]\n",
      "Real part of the eigenvector:  [ 0.1058093   0.          0.         -0.88537986]\n",
      "Imaginary part of the eigenvector:  [0.         0.37938418 0.24693023 0.        ]\n",
      "Eigenvector at L1:  [ 0.1058093 +0.j          0.        +0.37938418j  0.        +0.24693023j\n",
      " -0.88537986+0.j        ]\n",
      "Angular velocity:  2.333728983254233\n"
     ]
    }
   ],
   "source": [
    "print(\"Eigenvalues at L1: \", L)\n",
    "# Print formatted eigenvectors\n",
    "print(\"Eigenvectors at L1: Before reformating\") \n",
    "for i in range(4):\n",
    "    print(V[:,i])\n",
    "\n",
    "V.real[np.abs(V.real) <= eps] = 0\n",
    "V.imag[np.abs(V.imag) <= eps] = 0\n",
    "print(\"Eigenvectors at L1: After reformating\") \n",
    "for i in range(4):\n",
    "    print(V[:,i])\n",
    "\n",
    "\n",
    "\n",
    "# Take the complex eigenvectors\n",
    "L_compl = [(idx, x) for idx, x in enumerate(L) if isinstance(x, complex) and x.imag > eps]\n",
    "# Print the complex eigenvectors\n",
    "print(\"Complex eigenvectors at L1: \", L_compl)\n",
    "\n",
    "# Take the eigenvector corresponding to the complex eigenvalue\n",
    "v = V[:,L_compl[0][0]]\n",
    "\n",
    "#Print real and imaginary parts of the eigenvector\n",
    "\n",
    "v_real = np.zeros(4)\n",
    "v_imag = np.zeros(4)\n",
    "for j in range(4):\n",
    "    if abs(v[j].real) > eps:\n",
    "        v_real[j] = v[j].real\n",
    "    if abs(v[j].imag) > eps:\n",
    "        v_imag[j] = v[j].imag\n",
    "# Recompose the eigenvector\n",
    "v = v_real + 1j*v_imag\n",
    "print(\"Real part of the eigenvector: \", v_real)\n",
    "print(\"Imaginary part of the eigenvector: \", v.imag)\n",
    "print(\"Eigenvector at L1: \", v)\n",
    "# Take the first two components, associated with the position\n",
    "v = v[:2]\n",
    "\n",
    "# The angular velocity is the imaginary part of the eigenvalue\n",
    "om_ly = L_compl[0][1].imag\n",
    "# Print the angular velocity\n",
    "print(\"Angular velocity: \", om_ly)\n",
    "\n",
    "# Time span\n",
    "t_span = np.linspace(0, 2*np.pi/om_ly, 100) # 1 period\n",
    "\n",
    "sol = f_lyp(t_span, om_ly, alpha0, v)\n",
    "\n",
    "\n",
    "\n",
    "\n",
    "\n",
    "\n",
    "\n"
   ]
  },
  {
   "cell_type": "code",
   "execution_count": null,
   "metadata": {},
   "outputs": [],
   "source": [
    "# Plotting cell\n",
    "# Plot the Lagrange point and the Moon position\n",
    "import matplotlib.pyplot as plt\n",
    "\n",
    "t_span = np.linspace(0, 2*np.pi/om_ly, 100)\n",
    "\n",
    "sol = f_lyp(t_span, om_ly, alpha0, v)\n",
    "\n",
    "# Find from this solution the one with a crossing with the x-axis\n",
    "\n",
    "# Plot the Lagrange point\n",
    "plt.plot(XL1[0], XL1[1], 'ro', label='L1')\n",
    "# Plot the solution\n",
    "plt.plot(sol[0,:], sol[1,:], label='Lyapunov orbit')\n",
    "\n",
    "\n",
    "\n",
    "# From X_lyap take the solution that crosses the x-axis\n",
    "\n",
    "\n",
    "plt.xlabel('x')\n",
    "plt.ylabel('y')\n",
    "\n",
    "plt.legend()\n",
    "plt.show()\n",
    "\n",
    "\n",
    "\n"
   ]
  }
 ],
 "metadata": {
  "kernelspec": {
   "display_name": ".venv",
   "language": "python",
   "name": "python3"
  },
  "language_info": {
   "codemirror_mode": {
    "name": "ipython",
    "version": 3
   },
   "file_extension": ".py",
   "mimetype": "text/x-python",
   "name": "python",
   "nbconvert_exporter": "python",
   "pygments_lexer": "ipython3",
   "version": "3.11.9"
  }
 },
 "nbformat": 4,
 "nbformat_minor": 2
}
