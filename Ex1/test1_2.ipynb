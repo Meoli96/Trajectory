{
 "cells": [
  {
   "cell_type": "code",
   "execution_count": 2,
   "metadata": {},
   "outputs": [],
   "source": [
    "import numpy as np\n",
    "import scipy.linalg as splin\n",
    "from scipy.integrate import LSODA, solve_ivp\n",
    "import matplotlib.pyplot as plt\n",
    "\n",
    "from consts import *\n",
    "from lyapunov import *\n",
    "from pac import *\n",
    "from potential import *\n",
    "from lyap_obj import *"
   ]
  },
  {
   "cell_type": "code",
   "execution_count": null,
   "metadata": {},
   "outputs": [],
   "source": [
    "def compute_manifold(orbit: LyapOrbit, n_curves = 10):\n",
    "\n",
    "    # Computes the stable and unstable manifolds of a given orbit\n",
    "    \n",
    "    # Perturbation parameter\n",
    "    de = 40/384400\n",
    "\n",
    "    # Compute the periodic orbit\n",
    "    X, PHI = orbit.propagate()\n",
    "    PHI = PHI.reshape(4,4)\n",
    "    # Compute the length of the orbit\n",
    "    length = len(X[0,:])\n",
    "    \n",
    "    T = orbit.T\n",
    "    mu = orbit.mu\n",
    "    sol_s = []\n",
    "    sol_u = []\n",
    "\n",
    "    for i in range(n_curves):\n",
    "        p = X[:,i*length//n_curves]\n",
    "        PHI_p = PHI[:,:,i*length//n_curves]\n",
    "\n",
    "        assert spli.det(PHI_p) < 1e-10\n",
    "\n",
    "         # Compute the eigenvectors and eigenvalues of the STM\n",
    "        eigvals, eigvecs = splin.eig(PHI_p)\n",
    "\n",
    "        # Compute the stable and unstable eigenvectors\n",
    "        # E is stable if Re(eigval) < 1 and unstable if Re(eigval) > 1\n",
    "        Es_idx = [i for i in range(len(eigvals)) if np.abs(eigvals[i]) < 1 and eigvals[i].imag == 0]\n",
    "        Eu_idx = [i for i in range(len(eigvals)) if np.abs(eigvals[i]) > 1 and eigvals[i].imag == 0]\n",
    "\n",
    "        # Take eigenvalues and eigenvectors\n",
    "        Es, EVs = eigvals[Es_idx], eigvecs[:, Es_idx]\n",
    "        Eu, EVu = eigvals[Eu_idx], eigvecs[:, Eu_idx]\n",
    "\n",
    "        ### Compute deviation vectors\n",
    "        # Stable\n",
    "        X_s = p + de*EVs[:,0]/np.linalg.norm(EVs[:2,0])\n",
    "        # Unstable\n",
    "        X_u = p = de*EVu[:,0]/np.linalg.norm(EVu[:2,0])\n",
    "\n",
    "\n",
    "        \n",
    "\n",
    "        ### Propagate the deviation vectors\n",
    "        # Build the initial conditions\n",
    "        PHI0 = np.zeros((4,4))\n",
    "        X0s = np.concatenate((X_s, PHI0.flatten()))\n",
    "        X0u = np.concatenate((X_u, PHI0.flatten()))\n",
    "        \n",
    "        \n",
    "        \n",
    "        # Stable (backwards)\n",
    "        sol_s = solve_ivp(fdyn, [0, -T], X0s,t_eval= np.linspace(0, -T, 1000),\n",
    "                           method='LSODA', args=(T, mu), rtol=1e-12, atol=3e-12)\n",
    "        # Unstable (forward)\n",
    "        sol_u = solve_ivp(fdyn, [0, T],X0u, t_eval= np.linspace(0,T, 1000),\n",
    "                          method='LSODA', args=(T, mu), rtol=3e-12, atol=1e-12)\n",
    "\n",
    "        # Extract the solution\n",
    "        Xs = sol_s.y[:4,:]\n",
    "        Xu = sol_u.y[:4,:]\n",
    "\n",
    "        sol_s.append(Xs)\n",
    "        sol_u.append(Xu)\n",
    "    # End of loop\n",
    "    # Plot the manifolds\n",
    "    fig, ax = plt.subplots()\n",
    "    for i in range(n_curves):\n",
    "        ax.plot(sol_s[i][0,:], sol_s[i][1,:], 'b')\n",
    "        ax.plot(sol_u[i][0,:], sol_u[i][1,:], 'r')\n",
    "    \n",
    "    return sol_s, sol_u\n",
    "\n",
    "\n",
    "\n",
    "\n",
    "\n",
    "\n",
    "\n"
   ]
  },
  {
   "cell_type": "code",
   "execution_count": 6,
   "metadata": {},
   "outputs": [],
   "source": [
    "# Load orbits from file\n",
    "L1_0 = load_orbit(\"out/L1_0.npz\")\n",
    "L1_1 = load_orbit(\"out/L1_1.npz\")\n",
    "\n",
    "L2_0 = load_orbit(\"out/L2_0.npz\")\n",
    "L2_1 = load_orbit(\"out/L2_1.npz\")\n",
    "\n",
    "L1_orbits = [L1_0, L1_1]\n",
    "L2_orbits = [L2_0, L2_1]"
   ]
  },
  {
   "cell_type": "code",
   "execution_count": 8,
   "metadata": {},
   "outputs": [
    {
     "name": "stdout",
     "output_type": "stream",
     "text": [
      "[[0.81471266]\n",
      " [0.22150514]\n",
      " [2.87071409]]\n"
     ]
    }
   ],
   "source": [
    "print(L1_orbits[0].Yd)"
   ]
  },
  {
   "cell_type": "code",
   "execution_count": null,
   "metadata": {},
   "outputs": [],
   "source": [
    "# Orbits are contained in \n",
    "# orbsL1\n",
    "# isoC_L2\n",
    "# For good measure, set C of the orbits with a e-4 accuracy\n",
    "for i in range(len(L1_orbits)):\n",
    "    # Truncate to 4 decimal places without rounding\n",
    "    C = np.round(L1_orbits[i].C, 4)\n",
    "    L1_orbits[i].C = C\n",
    "    L2_orbits[i].C = C"
   ]
  },
  {
   "cell_type": "code",
   "execution_count": 7,
   "metadata": {},
   "outputs": [
    {
     "name": "stdout",
     "output_type": "stream",
     "text": [
      "Es: [ 0.01006471+0.j -0.83947859+0.j]\n",
      "EVs: [[-0.33780982 -0.11763913]\n",
      " [-0.09793467  0.18194181]\n",
      " [ 0.86967445  0.27701564]\n",
      " [ 0.34635195  0.93611994]]\n",
      "Eu: [99.3570566 +0.j -1.19121561+0.j]\n",
      "EVu: [[ 0.27507188 -0.11475265]\n",
      " [-0.16872958 -0.01417314]\n",
      " [ 0.92912558  0.06071852]\n",
      " [-0.18053101  0.99143543]]\n"
     ]
    }
   ],
   "source": [
    "de = 40/384400\n",
    "\n",
    "# Compute states of the orbits\n",
    "pair = 0 # pair of orbits to use\n",
    "\n",
    "# Compute the states of the orbits\n",
    "# L1\n",
    "X1, PHI1 = L1_orbits[pair].propagate()\n",
    "# L2\n",
    "X2, PHI2 = L2_orbits[pair].propagate()\n",
    "\n",
    "T = L1_orbits[pair].Yd[2]\n",
    "# Take one point in X1\n",
    "p_idx = 200 # index of the point, 0 <= p_idx < len(X1)\n",
    "p = X1[:4, p_idx]\n",
    "PHI1_p = PHI1[:, p_idx]\n",
    "PHI1_p = PHI1_p.reshape((4, 4)) \n",
    "\n",
    "# Compute the eigenvectors and eigenvalues of the STM at p\n",
    "eigvals, eigvecs = splin.eig(PHI1_p)\n",
    "\n",
    "# Compute the stable and unstable eigenvectors\n",
    "Es_idx = [i for i in range(len(eigvals)) if np.abs(eigvals[i]) < 1 and eigvals[i].imag == 0]\n",
    "Eu_idx = [i for i in range(len(eigvals)) if np.abs(eigvals[i]) > 1 and eigvals[i].imag == 0]\n",
    "\n",
    "# Take eigenvalues and eigenvectors(only position components)\n",
    "Es, EVs = eigvals[Es_idx], eigvecs[:, Es_idx]\n",
    "Eu, EVu = eigvals[Eu_idx], eigvecs[:, Eu_idx]\n",
    "\n",
    "print(f\"Es: {Es}\")\n",
    "print(f\"EVs: {EVs}\")\n",
    "print(f\"Eu: {Eu}\")\n",
    "print(f\"EVu: {EVu}\")"
   ]
  }
 ],
 "metadata": {
  "kernelspec": {
   "display_name": ".venv",
   "language": "python",
   "name": "python3"
  },
  "language_info": {
   "codemirror_mode": {
    "name": "ipython",
    "version": 3
   },
   "file_extension": ".py",
   "mimetype": "text/x-python",
   "name": "python",
   "nbconvert_exporter": "python",
   "pygments_lexer": "ipython3",
   "version": "3.11.9"
  }
 },
 "nbformat": 4,
 "nbformat_minor": 2
}
