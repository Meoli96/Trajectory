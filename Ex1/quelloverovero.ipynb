{
 "cells": [
  {
   "cell_type": "code",
   "execution_count": null,
   "metadata": {},
   "outputs": [],
   "source": [
    "import numpy as np\n",
    "import scipy.linalg as splin\n",
    "from scipy.integrate import LSODA, solve_ivp\n",
    "import matplotlib.pyplot as plt\n",
    "\n",
    "from consts import *\n",
    "from lyapunov import *\n",
    "from pac import *\n",
    "from potential import *"
   ]
  },
  {
   "cell_type": "code",
   "execution_count": null,
   "metadata": {},
   "outputs": [],
   "source": [
    "# Initial conditions (alpha0) and Jacobi interval\n",
    "alpha0 = 50/384400 # initial guess for alpha\n",
    "\n",
    "# C = 2U(r) - (vx^2 + vy^2)\n",
    "C_range = [3.1370, 3.1493]\n",
    "\n",
    "# Initialize list of families\n",
    "L1_family = []\n",
    "L2_family = []\n",
    "\n",
    "# Initialize lists of tangent vectors and step sizes\n",
    "L1_tau = []\n",
    "L1_ds = []\n",
    "\n",
    "L2_tau = []\n",
    "L2_ds = []"
   ]
  },
  {
   "cell_type": "code",
   "execution_count": null,
   "metadata": {},
   "outputs": [],
   "source": [
    "Yd0, DF, FX = nonlin_lyapunov_orbit(XL1, mu, alpha0) #1\n",
    "# Compute tau\n",
    "tau = spli.null_space(DF)\n",
    "\n"
   ]
  }
 ],
 "metadata": {
  "language_info": {
   "name": "python"
  }
 },
 "nbformat": 4,
 "nbformat_minor": 2
}
