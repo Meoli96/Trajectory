{
 "cells": [
  {
   "cell_type": "code",
   "execution_count": 1,
   "metadata": {},
   "outputs": [],
   "source": [
    "# Import all sort of things\n",
    "import numpy as np\n",
    "import scipy.linalg as splin\n",
    "from scipy.integrate import LSODA, solve_ivp\n",
    "from consts import *\n",
    "from formulae import *\n",
    "from potential import *\n"
   ]
  },
  {
   "cell_type": "code",
   "execution_count": 2,
   "metadata": {},
   "outputs": [],
   "source": [
    "# Planetary data\n",
    "\n",
    "# Earth mass (kg)\n",
    "mE = 5.972e24\n",
    "# Moon mass (kg)\n",
    "mM = 7.342e22\n",
    "\n",
    "# Gravitational constant (m^3/kg/s^2)\n",
    "G = 6.67430e-11\n",
    "\n",
    "# Earth-Moon distance (km)\n",
    "dEM = 384400\n",
    "# \"Relative\" gravitational parameter\n",
    "mu = mM/(mE+mM)\n",
    "eps = 1e-14\n",
    "\n"
   ]
  },
  {
   "cell_type": "code",
   "execution_count": 3,
   "metadata": {},
   "outputs": [],
   "source": [
    "# Lagrange points (L1 and L2)\n",
    "# L1\n",
    "xL1 = 0.8369\n",
    "yL1 = 0 \n",
    "XL1 = [xL1, yL1, 0, 0]\n",
    "\n",
    "# L2\n",
    "xL2 = 1.1556\n",
    "yL2 = 0\n",
    "XL2 = [xL2, yL2]"
   ]
  },
  {
   "cell_type": "code",
   "execution_count": 4,
   "metadata": {},
   "outputs": [],
   "source": [
    "# Initial conditions (alpha0) and Jacobi interval\n",
    "alpha0 = 50/384400 # initial guess for alpha\n",
    "\n",
    "# C = 2U(r) - (vx^2 + vy^2)\n",
    "C_range = [3.1370, 3.1493]"
   ]
  },
  {
   "cell_type": "code",
   "execution_count": 5,
   "metadata": {},
   "outputs": [
    {
     "name": "stdout",
     "output_type": "stream",
     "text": [
      "[ 1.05809301e-01-1.58426437e-17j  1.58471957e-18+3.79384181e-01j\n",
      " -1.07891337e-16+2.46930232e-01j -8.85379859e-01+0.00000000e+00j]\n"
     ]
    }
   ],
   "source": [
    "#def mainFun(XL: np.ndarray, mu: float, C_range, IG):\n",
    "    # XL is the lagrangian point position vector\n",
    "    # mu is the relative gravitational parameter\n",
    "    # C_range is the range of Jacobi constants to search for\n",
    "    # IG is the initial guess for alpha (for Lyapunov orbit)\n",
    "    \n",
    "\n",
    "\n",
    "# Compute A at XL\n",
    "A_xl = A(XL1[:2], mu)\n",
    "# Diagonalize it\n",
    "L, V = splin.eig(A_xl)\n",
    "\n",
    "# Filter small values - eps = 1e-14\n",
    "# V.real[np.abs(V.real) <= eps] = 0\n",
    "# V.imag[np.abs(V.imag) <= eps] = 0\n",
    "\n",
    "# Filter complex numbers with positive imaginary part\n",
    "Sel =  [(i, x) for i, x in enumerate(L) if isinstance(x, complex) and x.imag > 0]\n",
    "i_sel = Sel[0][0]\n",
    "L_sel = Sel[0][1]\n",
    "\n",
    "# Now take the eigenvector corresponding to that eigenvalue\n",
    "\n",
    "V_sel = V[:, i_sel]\n",
    "print(V_sel)\n",
    "# Angular velocity and period\n",
    "om_ly = L_sel.imag\n",
    "T_ly = 2*np.pi/om_ly\n",
    "# Lyapunov linearized state \n",
    "# x(t) = XL + alpha0(cos(om_ly*t)*Re(V_sel) + sin(om_ly*t)*Im(V_sel))\n",
    "# But we are interested in t = 0 then x(0) = XL + alpha0*Re(V_sel)\n",
    "\n",
    "# Initial state\n",
    "x0_ly = XL1 + alpha0*(V_sel.real)\n",
    "PHI0 = np.eye(4, 4)\n",
    "\n",
    "X0 = np.concatenate((x0_ly, PHI0.flatten()))\n",
    "\n",
    "\n",
    "def f_lyp (t_span: np.ndarray, om_ly, alpha0, V):\n",
    "    # t_span is the time span [0, T]\n",
    "    # om_ly is the angular velocity\n",
    "    # alpha0 is the initial guess for alpha\n",
    "    # V is the eigenvector corresponding to the eigenvalue with positive imaginary part\n",
    "\n",
    "    X = np.zeros((4, len(t_span)))  \n",
    "    for i, t in enumerate(t_span):\n",
    "        X[:, i] = XL1 + alpha0*(np.cos(om_ly*t)*V.real - np.sin(om_ly*t)*V.imag)\n",
    "    return X\n",
    "\n",
    "\n",
    "\n",
    "\n",
    "    "
   ]
  },
  {
   "cell_type": "code",
   "execution_count": 9,
   "metadata": {},
   "outputs": [
    {
     "name": "stdout",
     "output_type": "stream",
     "text": [
      "[ 8.36913763e-01  2.06128976e-22 -1.40337326e-20 -1.15163873e-04]\n",
      "[ 8.36886237e-01 -1.55184919e-07 -1.01005392e-07  1.15163304e-04]\n"
     ]
    },
    {
     "data": {
      "image/png": "[encoded data removed]",
      "text/plain": [
       "<Figure size 640x480 with 1 Axes>"
      ]
     },
     "metadata": {},
     "output_type": "display_data"
    }
   ],
   "source": [
    "# Plotting cell\n",
    "# Plot the Lagrange point and the Moon position\n",
    "import matplotlib.pyplot as plt\n",
    "\n",
    "t_span = np.linspace(0, 2*np.pi/om_ly, 1000)\n",
    "X_lyap = f_lyp(t_span, om_ly, alpha0, V_sel)\n",
    "# Find from this solution the one with a crossing with the x-axis\n",
    "\n",
    "# Plot the Lagrange point\n",
    "plt.plot(XL1[0], XL1[1], 'ro', label='L1')\n",
    "# Plot the Moon position\n",
    "\n",
    "\n",
    "# Set the aspect ratio to be equal\n",
    "plt.axis('equal')\n",
    "\n",
    "\n",
    "\n",
    "# # Plot lyapunov orbit\n",
    "plt.plot(X_lyap[0, :], X_lyap[1, :],'b', label='Lyapunov orbit')\n",
    "\n",
    "# From X_lyap take the solution that crosses the x-axis\n",
    "i_cross = [i for i in range(len(t_span)-1) if X_lyap[1, i] * X_lyap[1,i+1] < 0]\n",
    "\n",
    "# Plot the crossing point\n",
    "plt.plot(X_lyap[0,i_cross], X_lyap[1,i_cross], 'ro', label='Crossing point')\n",
    "print(X_lyap[:, i_cross[0]])\n",
    "print(X_lyap[:, i_cross[1]])\n",
    "\n",
    "#Plot initial position\n",
    "plt.plot( X_lyap[0,0], X_lyap[1,0], 'g.', label='Initial position')\n",
    "plt.grid()\n",
    "\n",
    "\n",
    "plt.legend()\n",
    "plt.show()\n",
    "\n",
    "\n"
   ]
  },
  {
   "cell_type": "code",
   "execution_count": 13,
   "metadata": {},
   "outputs": [
    {
     "data": {
      "text/plain": [
       "[<matplotlib.lines.Line2D at 0x1c0866fa7d0>]"
      ]
     },
     "execution_count": 13,
     "metadata": {},
     "output_type": "execute_result"
    },
    {
     "data": {
      "image/png": "[encoded data removed]",
      "text/plain": [
       "<Figure size 640x480 with 1 Axes>"
      ]
     },
     "metadata": {},
     "output_type": "display_data"
    }
   ],
   "source": [
    "# Take one of the crossing points \n",
    "X0 = X_lyap[:, i_cross[0]]\n",
    "for i in range(4):\n",
    "    if abs(X0[i]) < eps:\n",
    "        X0[i] = 0\n",
    "# Concat the STM\n",
    "PHI0 = np.eye(4, 4)\n",
    "Y0 = np.concatenate((X0, PHI0.flatten()))\n",
    "# Lets integrate the equations of motion\n",
    "tau_span = np.linspace(0, 1/2, 100)\n",
    "\n",
    "sol = solve_ivp(f, [0, 1/2], Y0, args = (T_ly, mu), t_eval=tau_span, method='LSODA', rtol=3*eps, atol=eps)\n",
    "\n",
    "# Plot the solution\n",
    "plt.plot(sol.y[0, :], sol.y[1, :], 'b*')\n",
    "plt.plot(XL1[0], XL1[1], 'ro')\n"
   ]
  },
  {
   "cell_type": "code",
   "execution_count": 8,
   "metadata": {},
   "outputs": [
    {
     "ename": "ValueError",
     "evalue": "matmul: Input operand 1 has a mismatch in its core dimension 0, with gufunc signature (n?,k),(k,m?)->(n?,m?) (size 1 is different from 2)",
     "output_type": "error",
     "traceback": [
      "\u001b[1;31m---------------------------------------------------------------------------\u001b[0m",
      "\u001b[1;31mValueError\u001b[0m                                Traceback (most recent call last)",
      "Cell \u001b[1;32mIn[8], line 9\u001b[0m\n\u001b[0;32m      4\u001b[0m F_X \u001b[38;5;241m=\u001b[39m \u001b[38;5;241m1\u001b[39m\n\u001b[0;32m      7\u001b[0m \u001b[38;5;28;01mwhile\u001b[39;00m \u001b[38;5;28mabs\u001b[39m(F_X) \u001b[38;5;241m>\u001b[39m \u001b[38;5;241m1e-12\u001b[39m:\n\u001b[0;32m      8\u001b[0m     \u001b[38;5;66;03m# Shoot\u001b[39;00m\n\u001b[1;32m----> 9\u001b[0m     DX, DF, F_X \u001b[38;5;241m=\u001b[39m \u001b[43mshooting\u001b[49m\u001b[43m(\u001b[49m\u001b[43mY_guess\u001b[49m\u001b[43m,\u001b[49m\u001b[43m \u001b[49m\u001b[43mYt\u001b[49m\u001b[43m,\u001b[49m\u001b[43m \u001b[49m\u001b[43mmu\u001b[49m\u001b[43m)\u001b[49m\n\u001b[0;32m     10\u001b[0m     \u001b[38;5;66;03m# Update the guess\u001b[39;00m\n\u001b[0;32m     11\u001b[0m     Y_guess \u001b[38;5;241m=\u001b[39m Y_guess \u001b[38;5;241m+\u001b[39m DX\n",
      "File \u001b[1;32me:\\Coding\\Universita\\Trajectory\\Ex1\\formulae.py:111\u001b[0m, in \u001b[0;36mshooting\u001b[1;34m(Y_guess, Yt, mu)\u001b[0m\n\u001b[0;32m    109\u001b[0m pi \u001b[38;5;241m=\u001b[39m np\u001b[38;5;241m.\u001b[39mlinalg\u001b[38;5;241m.\u001b[39minv(DF\u001b[38;5;241m.\u001b[39mT\u001b[38;5;129m@DF\u001b[39m)\u001b[38;5;129m@DF\u001b[39m\u001b[38;5;241m.\u001b[39mT\n\u001b[0;32m    110\u001b[0m \u001b[38;5;66;03m# Compute the correction\u001b[39;00m\n\u001b[1;32m--> 111\u001b[0m dX \u001b[38;5;241m=\u001b[39m \u001b[38;5;241;43m-\u001b[39;49m\u001b[43mpi\u001b[49m\u001b[38;5;129;43m@F_X\u001b[39;49m\n\u001b[0;32m    113\u001b[0m \u001b[38;5;28;01mreturn\u001b[39;00m dX, DF, F_X\n",
      "\u001b[1;31mValueError\u001b[0m: matmul: Input operand 1 has a mismatch in its core dimension 0, with gufunc signature (n?,k),(k,m?)->(n?,m?) (size 1 is different from 2)"
     ]
    }
   ],
   "source": [
    "# Build the initial guess for iteration\n",
    "Y_guess = [X0[0], X0[3], T_ly] \n",
    "Yt = [0,0]\n",
    "F_X = 1\n",
    "\n",
    "\n",
    "while abs(F_X) > 1e-12:\n",
    "    # Shoot\n",
    "    DX, DF, F_X = shooting(Y_guess, Yt, mu)\n",
    "    # Update the guess\n",
    "    Y_guess = Y_guess + DX\n",
    "    print(F_X)\n",
    "\n",
    "# Now integrate the equations of motion\n",
    "Y0 = [Y_guess[0], 0, 0, Y_guess[1]]\n",
    "T = Y_guess[2]\n",
    "\n",
    "tau_span = np.linspace(0, 1/2, 1000)\n",
    "sol = solve_ivp(f, [0, 1/2], Y0, args = (T, mu), t_eval=tau_span, method='LSODA', rtol=3*eps, atol=eps)\n",
    "\n",
    "# Plot the solution\n",
    "plt.plot(sol.y[0, :], sol.y[1, :])\n",
    "plt.plot(XL1[0], XL1[1], 'ro')\n",
    "\n"
   ]
  }
 ],
 "metadata": {
  "kernelspec": {
   "display_name": ".venv",
   "language": "python",
   "name": "python3"
  },
  "language_info": {
   "codemirror_mode": {
    "name": "ipython",
    "version": 3
   },
   "file_extension": ".py",
   "mimetype": "text/x-python",
   "name": "python",
   "nbconvert_exporter": "python",
   "pygments_lexer": "ipython3",
   "version": "3.11.9"
  }
 },
 "nbformat": 4,
 "nbformat_minor": 2
}
