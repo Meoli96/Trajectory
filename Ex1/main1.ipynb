{
 "cells": [
  {
   "cell_type": "code",
   "execution_count": 1,
   "metadata": {
    "notebookRunGroups": {
     "groupValue": "1"
    }
   },
   "outputs": [],
   "source": [
    "import numpy as np\n",
    "import scipy.linalg as splin\n",
    "from scipy.integrate import LSODA, solve_ivp\n",
    "import matplotlib.pyplot as plt\n",
    "\n",
    "from consts import *\n",
    "from lyapunov import *\n",
    "from pac import *\n",
    "from potential import *\n",
    "from lyap_obj import *"
   ]
  },
  {
   "cell_type": "code",
   "execution_count": 2,
   "metadata": {
    "notebookRunGroups": {
     "groupValue": "2"
    }
   },
   "outputs": [],
   "source": [
    "# Initial conditions (alpha0) and Jacobi interval\n",
    "alpha0 = 50/384400 # initial guess for alpha\n",
    "\n",
    "# C = 2U(r) - (vx^2 + vy^2)\n",
    "C_range = [3.1370, 3.1493]"
   ]
  },
  {
   "cell_type": "code",
   "execution_count": 3,
   "metadata": {},
   "outputs": [],
   "source": [
    "fL1 = Family(XL1, muEM)\n",
    "fL1.find_family(alpha0, 40)"
   ]
  },
  {
   "cell_type": "code",
   "execution_count": 4,
   "metadata": {},
   "outputs": [],
   "source": [
    "fL2 = Family(XL2, muEM)\n",
    "fL2.find_family(alpha0, 40)"
   ]
  },
  {
   "cell_type": "code",
   "execution_count": 5,
   "metadata": {},
   "outputs": [],
   "source": [
    "#fL1.plot_family()\n",
    "#fL2.plot_family()"
   ]
  },
  {
   "cell_type": "code",
   "execution_count": 6,
   "metadata": {},
   "outputs": [
    {
     "name": "stdout",
     "output_type": "stream",
     "text": [
      "Found 1 orbits in the range, PACing to find more\n",
      "Found orbit 1\n",
      "ds: 0.01, C_guess: 3.1422696744783094, G_guess: 5.748861366033244e-13\n"
     ]
    }
   ],
   "source": [
    "# Obtain two orbits in [C_range[0]  C_range[1]] in L1\n",
    "orbsL1 = find_Crange(fL1, 2, C_range, verbose=True)"
   ]
  },
  {
   "cell_type": "code",
   "execution_count": 7,
   "metadata": {},
   "outputs": [
    {
     "data": {
      "image/png": "[encoded data removed]",
      "text/plain": [
       "<Figure size 640x480 with 1 Axes>"
      ]
     },
     "metadata": {},
     "output_type": "display_data"
    }
   ],
   "source": [
    "for orbit in orbsL1:\n",
    "    orbit.plot()\n",
    "plt.axis('equal')\n",
    "plt.show()"
   ]
  },
  {
   "cell_type": "code",
   "execution_count": 8,
   "metadata": {
    "notebookRunGroups": {
     "groupValue": "1"
    }
   },
   "outputs": [
    {
     "name": "stdout",
     "output_type": "stream",
     "text": [
      "Finding orbits with C = 3.144399216220354\n",
      "Orbit not in the C tolerance. C = 3.143319659964456, err = 0.001079556255898062, ds = 0.031947999937062266, G = 7.938626928465207e-13\n",
      "Orbit not in the C tolerance. C = 3.149319324815042, err = 0.004920108594688166, ds = -0.02904363630642024, G = 7.81399476950256e-13\n",
      "Orbit not in the C tolerance. C = 3.143834479639465, err = 0.0005647365808889582, ds = 0.026403305733109308, G = 9.746809136537764e-13\n",
      "Orbit not in the C tolerance. C = 3.1487985219466297, err = 0.004399305726275671, ds = -0.02400300521191755, G = 9.892796322703889e-13\n",
      "Orbit not in the C tolerance. C = 3.1442650029545867, err = 0.0001342132657673467, ds = 0.021820913829015954, G = 8.105413370671067e-13\n",
      "Orbit not in the C tolerance. C = 3.14837099293151, err = 0.003971776711155783, ds = -0.019837194390014502, G = 8.236274590542006e-13\n",
      "Orbit not in the C tolerance. C = 3.144624193000313, err = 0.00022497677995891863, ds = 0.018033813081831364, G = 9.269262580273303e-13\n",
      "Orbit not in the C tolerance. C = 3.14110316574933, err = 0.0032960504710239924, ds = 0.0163943755289376, G = 7.991613767576767e-13\n",
      "Orbit not in the C tolerance. C = 3.144292468583322, err = 0.00010674763703200085, ds = -0.014903977753579637, G = 8.614936319138567e-13\n",
      "Orbit not in the C tolerance. C = 3.147117618464985, err = 0.0027184022446311573, ds = -0.013549070685072396, G = 8.390254449839725e-13\n",
      "Orbit not in the C tolerance. C = 3.1445424763326812, err = 0.000143260112327237, ds = 0.01231733698642945, G = 8.79114283918695e-13\n",
      "Orbit not in the C tolerance. C = 3.1421484633237426, err = 0.0022507528966113632, ds = 0.011197579078572226, G = 8.114521956582829e-13\n",
      "Found orbit with C = 3.144399216220354, err = 7.967842663436642e-05\n",
      "Finding orbits with C = 3.1422696744783094\n",
      "Orbit not in the C tolerance. C = 3.143319659964456, err = 0.001049985486146543, ds = 0.031947999937062266, G = 7.938626928465207e-13\n",
      "Orbit not in the C tolerance. C = 3.1369501319467257, err = 0.005319542531583732, ds = 0.02904363630642024, G = 9.256912453541643e-13\n",
      "Orbit not in the C tolerance. C = 3.1426985225831303, err = 0.0004288481048209114, ds = -0.026403305733109308, G = 9.949292511973234e-13\n",
      "Orbit not in the C tolerance. C = 3.137435324873115, err = 0.004834349605194355, ds = 0.02400300521191755, G = 8.026121545620102e-13\n",
      "Found orbit with C = 3.1422696744783094, err = 7.866406547085703e-05\n"
     ]
    }
   ],
   "source": [
    "# Find isoenergetic L2 orbits\n",
    "isoC_L2 = []\n",
    "for oL1 in orbsL1:\n",
    "    isoC_L2.append(find_isoC(oL1, fL2, verbose=True)) "
   ]
  },
  {
   "cell_type": "code",
   "execution_count": 20,
   "metadata": {},
   "outputs": [
    {
     "name": "stdout",
     "output_type": "stream",
     "text": [
      "Finding orbits with C = 3.144399216220354\n",
      "Orbit not in the C tolerance. C = 3.1460373764551424, err = 0.001638160234788355, ds = 0.01916879996223736, G = 9.946217151667348e-13\n",
      "New ds_guess = 0.02875319994335604\n",
      "Orbit not in the C tolerance. C = 3.144006478841648, err = 0.0003927373787058208, ds = 0.02875319994335604, G = 9.93042068207789e-13\n",
      "New ds_guess = 0.0239609999527967\n",
      "Orbit not in the C tolerance. C = 3.145027592495321, err = 0.0006283762749670352, ds = 0.0239609999527967, G = 9.442343645043445e-13\n",
      "New ds_guess = 0.02635709994807637\n",
      "Orbit not in the C tolerance. C = 3.1445184242499207, err = 0.00011920802956666421, ds = 0.02635709994807637, G = 9.97513096204656e-13\n",
      "New ds_guess = 0.027555149945716204\n",
      "Orbit not in the C tolerance. C = 3.144262795248735, err = 0.0001364209716188114, ds = 0.027555149945716204, G = 7.027697555823917e-13\n",
      "New ds_guess = 0.02695612494689629\n",
      "Found orbit with C = 3.144399216220354, err = 8.520115479804247e-06\n",
      "Finding orbits with C = 3.1422696744783094\n",
      "Orbit not in the C tolerance. C = 3.1460373764551424, err = 0.00376770197683296, ds = 0.01916879996223736, G = 9.946217151667348e-13\n",
      "New ds_guess = 0.02875319994335604\n",
      "Orbit not in the C tolerance. C = 3.144006478841648, err = 0.0017368043633387842, ds = 0.02875319994335604, G = 9.93042068207789e-13\n",
      "New ds_guess = 0.03354539993391538\n",
      "Orbit not in the C tolerance. C = 3.1429744763246243, err = 0.0007048018463149397, ds = 0.03354539993391538, G = 8.789875585169319e-13\n",
      "New ds_guess = 0.03594149992919505\n",
      "Orbit not in the C tolerance. C = 3.142454528573491, err = 0.0001848540951816524, ds = 0.03594149992919505, G = 9.359394862348388e-13\n",
      "New ds_guess = 0.03713954992683488\n",
      "Found orbit with C = 3.1422696744783094, err = 7.6082589237636e-05\n"
     ]
    }
   ],
   "source": [
    "isoC_L2_bi = []\n",
    "for oL1 in orbsL1:\n",
    "    isoC_L2_bi.append(find_isoC_bisection(oL1, fL2, verbose=True))"
   ]
  },
  {
   "cell_type": "code",
   "execution_count": 21,
   "metadata": {},
   "outputs": [],
   "source": [
    "out_folder = 'out/'\n",
    "for i in range(len(isoC_L2)):\n",
    "    orbsL1[i].save(out_folder + 'L1_' + str(i) + '.npz')\n",
    "    isoC_L2[i].save(out_folder + 'L2_' + str(i) + '.npz')\n",
    "    "
   ]
  }
 ],
 "metadata": {
  "kernelspec": {
   "display_name": ".venv",
   "language": "python",
   "name": "python3"
  },
  "language_info": {
   "codemirror_mode": {
    "name": "ipython",
    "version": 3
   },
   "file_extension": ".py",
   "mimetype": "text/x-python",
   "name": "python",
   "nbconvert_exporter": "python",
   "pygments_lexer": "ipython3",
   "version": "3.11.9"
  }
 },
 "nbformat": 4,
 "nbformat_minor": 2
}
